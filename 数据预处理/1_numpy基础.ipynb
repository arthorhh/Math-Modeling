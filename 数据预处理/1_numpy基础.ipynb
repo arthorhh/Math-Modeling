{
 "cells": [
  {
   "cell_type": "markdown",
   "id": "100100ab-4dc0-4298-a8d6-82762ec7d959",
   "metadata": {},
   "source": [
    "1、创建数组"
   ]
  },
  {
   "cell_type": "code",
   "execution_count": 1,
   "id": "a0bd9593-3505-44d1-b211-ad9f55603a07",
   "metadata": {},
   "outputs": [
    {
     "name": "stdout",
     "output_type": "stream",
     "text": [
      "[1 2 3 4 5]\n",
      "[0 1 2 3 4 5 6 7 8 9]\n",
      "[ 0  1  4  9 16 25 36 49 64 81]\n",
      "[0 2 4 6 8]\n",
      "e的结果是[1 2 3 4 5]\n"
     ]
    }
   ],
   "source": [
    "import numpy as np\n",
    "a = np.array([1,2,3,4,5])\n",
    "print(a)\n",
    "b = np.array(range(10))\n",
    "c = np.array([i ** 2 for i in range(10)])  # 0到 9平方数组\n",
    "print(b)\n",
    "print(c)\n",
    "d = np.array([i for i in range(10) if i%2 == 0])  # 0到 9偶数数组\n",
    "print(d)\n",
    "e = np.array([1.1,2.2,3.3,4.4,5.5],dtype=int)  # 指定类型为整数\n",
    "print(f\"e的结果是{e}\")"
   ]
  },
  {
   "cell_type": "markdown",
   "id": "348878a8-213a-4060-8d7e-e43be0768915",
   "metadata": {},
   "source": []
  }
 ],
 "metadata": {
  "kernelspec": {
   "display_name": "Python 3 (ipykernel)",
   "language": "python",
   "name": "python3"
  },
  "language_info": {
   "codemirror_mode": {
    "name": "ipython",
    "version": 3
   },
   "file_extension": ".py",
   "mimetype": "text/x-python",
   "name": "python",
   "nbconvert_exporter": "python",
   "pygments_lexer": "ipython3",
   "version": "3.12.5"
  }
 },
 "nbformat": 4,
 "nbformat_minor": 5
}
