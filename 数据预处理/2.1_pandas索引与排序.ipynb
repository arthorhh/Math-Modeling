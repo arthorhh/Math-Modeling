{
 "cells": [
  {
   "cell_type": "code",
   "execution_count": 1,
   "id": "08e859ae-c824-466c-8d9f-53fa18eaa129",
   "metadata": {},
   "outputs": [],
   "source": [
    "import numpy as np\n",
    "import pandas as pd"
   ]
  },
  {
   "cell_type": "markdown",
   "id": "f0c45c74-757a-444b-94ed-c23976182896",
   "metadata": {},
   "source": [
    "一、Dataframe生成"
   ]
  },
  {
   "cell_type": "code",
   "execution_count": 2,
   "id": "ac6ce069-f4e9-41a0-97a4-7cb94c5ec937",
   "metadata": {},
   "outputs": [
    {
     "data": {
      "text/plain": [
       "(DatetimeIndex(['2025-03-27', '2025-03-28', '2025-03-29', '2025-03-30',\n",
       "                '2025-03-31', '2025-04-01'],\n",
       "               dtype='datetime64[ns]', freq='D'),\n",
       "    2025-03-27  2025-03-28  2025-03-29  2025-03-30  2025-03-31  2025-04-01\n",
       " A    0.672091    0.250553    0.469984    0.852428    0.086851    0.609595\n",
       " B    0.267017    0.954126    0.969207    0.536699    0.688587    0.629411\n",
       " C    0.532304    0.572962    0.612085    0.741291    0.141258    0.970316\n",
       " D    0.439481    0.575664    0.294775    0.431156    0.424359    0.654578)"
      ]
     },
     "execution_count": 2,
     "metadata": {},
     "output_type": "execute_result"
    }
   ],
   "source": [
    "dates = pd.date_range('20250327',periods=6)\n",
    "df = pd.DataFrame(np.random.random([4,6]),index=list('ABCD'),columns=dates)  # 数据，行标签，列标签\n",
    "dates,df"
   ]
  },
  {
   "cell_type": "code",
   "execution_count": 3,
   "id": "53bd9e22-40d1-454f-8791-f6684ef62f42",
   "metadata": {},
   "outputs": [
    {
     "data": {
      "text/plain": [
       "(   A          B    C  D       E    F\n",
       " 0  1 2025-03-27  1.0  3   first  foo\n",
       " 1  1 2025-03-27  1.0  3  secend  foo\n",
       " 2  1 2025-03-27  1.0  3   third  foo\n",
       " 3  1 2025-03-27  1.0  3  fourth  foo,\n",
       "    A          B    C  D       E    F\n",
       " 0  1 2025-03-27  1.0  3   first  foo\n",
       " 1  1 2025-03-27  1.0  3  secend  foo,\n",
       "    A          B    C  D       E    F\n",
       " 2  1 2025-03-27  1.0  3   third  foo\n",
       " 3  1 2025-03-27  1.0  3  fourth  foo)"
      ]
     },
     "execution_count": 3,
     "metadata": {},
     "output_type": "execute_result"
    }
   ],
   "source": [
    "df = pd.DataFrame({\n",
    "    'A':1,\n",
    "    'B':pd.Timestamp('20250327'),\n",
    "    'C':pd.Series(1,index=list(range(4)),dtype='float64'),\n",
    "    'D':np.array([3]*4,dtype='int64'),\n",
    "    'E':pd.Categorical(['first','secend','third','fourth']),\n",
    "    'F':'foo'\n",
    "})\n",
    "df,df.head(2),df.tail(2)"
   ]
  },
  {
   "cell_type": "markdown",
   "id": "acc022fa-22f8-4d71-9d3f-4725903837df",
   "metadata": {},
   "source": [
    "df.head(2)输出前2行，df.tail(2)输出后2行"
   ]
  },
  {
   "cell_type": "markdown",
   "id": "ddad60b1-d082-4c3f-b7d2-d44eec2717d5",
   "metadata": {},
   "source": [
    "二、表格的读取"
   ]
  },
  {
   "cell_type": "code",
   "execution_count": 4,
   "id": "45d5c9b2-4103-4af4-8fc1-a25c5918799f",
   "metadata": {},
   "outputs": [
    {
     "data": {
      "text/html": [
       "<div>\n",
       "<style scoped>\n",
       "    .dataframe tbody tr th:only-of-type {\n",
       "        vertical-align: middle;\n",
       "    }\n",
       "\n",
       "    .dataframe tbody tr th {\n",
       "        vertical-align: top;\n",
       "    }\n",
       "\n",
       "    .dataframe thead th {\n",
       "        text-align: right;\n",
       "    }\n",
       "</style>\n",
       "<table border=\"1\" class=\"dataframe\">\n",
       "  <thead>\n",
       "    <tr style=\"text-align: right;\">\n",
       "      <th></th>\n",
       "      <th>身高</th>\n",
       "      <th>体重</th>\n",
       "      <th>肺活量</th>\n",
       "      <th>50米跑</th>\n",
       "      <th>立定跳远</th>\n",
       "      <th>坐位体前屈</th>\n",
       "    </tr>\n",
       "  </thead>\n",
       "  <tbody>\n",
       "    <tr>\n",
       "      <th>0</th>\n",
       "      <td>155</td>\n",
       "      <td>51</td>\n",
       "      <td>1687</td>\n",
       "      <td>9.7</td>\n",
       "      <td>158</td>\n",
       "      <td>9.3</td>\n",
       "    </tr>\n",
       "    <tr>\n",
       "      <th>1</th>\n",
       "      <td>158</td>\n",
       "      <td>52</td>\n",
       "      <td>1868</td>\n",
       "      <td>9.3</td>\n",
       "      <td>162</td>\n",
       "      <td>9.6</td>\n",
       "    </tr>\n",
       "    <tr>\n",
       "      <th>2</th>\n",
       "      <td>160</td>\n",
       "      <td>59</td>\n",
       "      <td>1958</td>\n",
       "      <td>9.9</td>\n",
       "      <td>178</td>\n",
       "      <td>9.5</td>\n",
       "    </tr>\n",
       "    <tr>\n",
       "      <th>3</th>\n",
       "      <td>163</td>\n",
       "      <td>59</td>\n",
       "      <td>1756</td>\n",
       "      <td>9.7</td>\n",
       "      <td>183</td>\n",
       "      <td>10.1</td>\n",
       "    </tr>\n",
       "    <tr>\n",
       "      <th>4</th>\n",
       "      <td>165</td>\n",
       "      <td>60</td>\n",
       "      <td>1575</td>\n",
       "      <td>9.0</td>\n",
       "      <td>156</td>\n",
       "      <td>10.4</td>\n",
       "    </tr>\n",
       "  </tbody>\n",
       "</table>\n",
       "</div>"
      ],
      "text/plain": [
       "    身高  体重   肺活量  50米跑  立定跳远  坐位体前屈\n",
       "0  155  51  1687   9.7   158    9.3\n",
       "1  158  52  1868   9.3   162    9.6\n",
       "2  160  59  1958   9.9   178    9.5\n",
       "3  163  59  1756   9.7   183   10.1\n",
       "4  165  60  1575   9.0   156   10.4"
      ]
     },
     "execution_count": 4,
     "metadata": {},
     "output_type": "execute_result"
    }
   ],
   "source": [
    "df = pd.read_excel(r'G:\\0tjjm\\算法\\girl.xlsx',sheet_name=0,header=0)\n",
    "df.head()"
   ]
  },
  {
   "cell_type": "markdown",
   "id": "72e442ee-5a87-42fe-b5b7-70d84924b280",
   "metadata": {},
   "source": [
    "①sheet_name参数详解 不需要详解"
   ]
  },
  {
   "cell_type": "markdown",
   "id": "21db98bc-e092-4930-85fc-4235c0aceeb6",
   "metadata": {},
   "source": [
    "②header参数详解 有时候待读取的excel文件，可能有标题行，也有可能没有标题行。但是默认都会将第一行读取为标题行，这个对于没有标题行的excel文件来说，header=None，主要针对没有标题行的excel文件，系统不会将第一行数据作为标题，而是默认取一个1,2,3…这样的标题。 header=正整数值，指定哪一行作为标题行。"
   ]
  },
  {
   "cell_type": "markdown",
   "id": "1df918e0-64b7-451d-9658-80282f8a8571",
   "metadata": {},
   "source": [
    "③usecols参数详解 如果仅仅读取这张表中的指定列， usecols=None，表示选择一张表中的所有列，默认情况不指定该参数，也表示选择表中的所有列。 usecols=[A,C]，表示选择A列（第一列）和C列（第三列）。而usecols=[A,C:E]，表示选择A列，C列、D列和E列。"
   ]
  },
  {
   "cell_type": "code",
   "execution_count": 5,
   "id": "1d391389-6f1e-4558-b604-2228f8ba1d87",
   "metadata": {},
   "outputs": [
    {
     "data": {
      "text/html": [
       "<div>\n",
       "<style scoped>\n",
       "    .dataframe tbody tr th:only-of-type {\n",
       "        vertical-align: middle;\n",
       "    }\n",
       "\n",
       "    .dataframe tbody tr th {\n",
       "        vertical-align: top;\n",
       "    }\n",
       "\n",
       "    .dataframe thead th {\n",
       "        text-align: right;\n",
       "    }\n",
       "</style>\n",
       "<table border=\"1\" class=\"dataframe\">\n",
       "  <thead>\n",
       "    <tr style=\"text-align: right;\">\n",
       "      <th></th>\n",
       "      <th>身高</th>\n",
       "      <th>50米跑</th>\n",
       "    </tr>\n",
       "  </thead>\n",
       "  <tbody>\n",
       "    <tr>\n",
       "      <th>0</th>\n",
       "      <td>155</td>\n",
       "      <td>9.7</td>\n",
       "    </tr>\n",
       "    <tr>\n",
       "      <th>1</th>\n",
       "      <td>158</td>\n",
       "      <td>9.3</td>\n",
       "    </tr>\n",
       "    <tr>\n",
       "      <th>2</th>\n",
       "      <td>160</td>\n",
       "      <td>9.9</td>\n",
       "    </tr>\n",
       "    <tr>\n",
       "      <th>3</th>\n",
       "      <td>163</td>\n",
       "      <td>9.7</td>\n",
       "    </tr>\n",
       "    <tr>\n",
       "      <th>4</th>\n",
       "      <td>165</td>\n",
       "      <td>9.0</td>\n",
       "    </tr>\n",
       "  </tbody>\n",
       "</table>\n",
       "</div>"
      ],
      "text/plain": [
       "    身高  50米跑\n",
       "0  155   9.7\n",
       "1  158   9.3\n",
       "2  160   9.9\n",
       "3  163   9.7\n",
       "4  165   9.0"
      ]
     },
     "execution_count": 5,
     "metadata": {},
     "output_type": "execute_result"
    }
   ],
   "source": [
    "df = pd.read_excel(r'G:\\0tjjm\\算法\\girl.xlsx',usecols=[0,3])\n",
    "df.head()"
   ]
  },
  {
   "cell_type": "markdown",
   "id": "ef47114e-7ffc-421b-9221-faba7ecf84ad",
   "metadata": {},
   "source": [
    "三、索引"
   ]
  },
  {
   "cell_type": "markdown",
   "id": "69b80ab6-1f39-49c5-82cc-bca41513c9bf",
   "metadata": {},
   "source": [
    "标签索引:loc，位置索引:iloc。"
   ]
  },
  {
   "cell_type": "code",
   "execution_count": 6,
   "id": "f3e5f03f-aaee-41e9-8aa9-d45ea769fd42",
   "metadata": {},
   "outputs": [
    {
     "data": {
      "text/html": [
       "<div>\n",
       "<style scoped>\n",
       "    .dataframe tbody tr th:only-of-type {\n",
       "        vertical-align: middle;\n",
       "    }\n",
       "\n",
       "    .dataframe tbody tr th {\n",
       "        vertical-align: top;\n",
       "    }\n",
       "\n",
       "    .dataframe thead th {\n",
       "        text-align: right;\n",
       "    }\n",
       "</style>\n",
       "<table border=\"1\" class=\"dataframe\">\n",
       "  <thead>\n",
       "    <tr style=\"text-align: right;\">\n",
       "      <th></th>\n",
       "      <th>身高</th>\n",
       "      <th>体重</th>\n",
       "    </tr>\n",
       "  </thead>\n",
       "  <tbody>\n",
       "    <tr>\n",
       "      <th>0</th>\n",
       "      <td>155</td>\n",
       "      <td>51</td>\n",
       "    </tr>\n",
       "    <tr>\n",
       "      <th>1</th>\n",
       "      <td>158</td>\n",
       "      <td>52</td>\n",
       "    </tr>\n",
       "    <tr>\n",
       "      <th>2</th>\n",
       "      <td>160</td>\n",
       "      <td>59</td>\n",
       "    </tr>\n",
       "    <tr>\n",
       "      <th>3</th>\n",
       "      <td>163</td>\n",
       "      <td>59</td>\n",
       "    </tr>\n",
       "    <tr>\n",
       "      <th>4</th>\n",
       "      <td>165</td>\n",
       "      <td>60</td>\n",
       "    </tr>\n",
       "  </tbody>\n",
       "</table>\n",
       "</div>"
      ],
      "text/plain": [
       "    身高  体重\n",
       "0  155  51\n",
       "1  158  52\n",
       "2  160  59\n",
       "3  163  59\n",
       "4  165  60"
      ]
     },
     "execution_count": 6,
     "metadata": {},
     "output_type": "execute_result"
    }
   ],
   "source": [
    "df = pd.read_excel(r'G:\\0tjjm\\算法\\girl.xlsx')\n",
    "df[\"身高\"].head()\n",
    "df[['身高','体重']].head()"
   ]
  },
  {
   "cell_type": "code",
   "execution_count": 7,
   "id": "120b636a-18e5-425b-a60a-ed8b5d1592db",
   "metadata": {},
   "outputs": [
    {
     "data": {
      "text/plain": [
       "身高        155.0\n",
       "体重         51.0\n",
       "肺活量      1687.0\n",
       "50米跑        9.7\n",
       "立定跳远      158.0\n",
       "坐位体前屈       9.3\n",
       "Name: 0, dtype: float64"
      ]
     },
     "execution_count": 7,
     "metadata": {},
     "output_type": "execute_result"
    }
   ],
   "source": [
    "# 位置索引\n",
    "df.iloc[0]\n",
    "# 标签索引\n",
    "#df.loc[\"标签名\"]"
   ]
  },
  {
   "cell_type": "code",
   "execution_count": 8,
   "id": "1a2e9289-f979-4d37-a398-8d8511a79784",
   "metadata": {},
   "outputs": [
    {
     "data": {
      "text/plain": [
       "(      身高  体重  50米跑\n",
       " 0    155  51   9.7\n",
       " 1    158  52   9.3\n",
       " 2    160  59   9.9\n",
       " 3    163  59   9.7\n",
       " 4    165  60   9.0\n",
       " ..   ...  ..   ...\n",
       " 586  164  50   9.7\n",
       " 587  159  41  11.3\n",
       " 588  158  48  12.0\n",
       " 589  155  49  11.0\n",
       " 590  155  51  12.1\n",
       " \n",
       " [591 rows x 3 columns],\n",
       "     身高  体重   肺活量  50米跑  立定跳远  坐位体前屈\n",
       " 0  155  51  1687   9.7   158    9.3\n",
       " 1  158  52  1868   9.3   162    9.6\n",
       " 3  163  59  1756   9.7   183   10.1)"
      ]
     },
     "execution_count": 8,
     "metadata": {},
     "output_type": "execute_result"
    }
   ],
   "source": [
    "# 位置索引\n",
    "df1 = df.iloc[:,[0,1,3]]  # 所有行，013列\n",
    "df2 = df.iloc[[0,1,3]]\n",
    "df1,df2\n",
    "# 标签索引\n",
    "#df.loc[[\"标签1\",\"标签2\",\"标签4\"]]"
   ]
  },
  {
   "cell_type": "code",
   "execution_count": 9,
   "id": "ecc58d83-6df2-4871-b392-af721ad77eca",
   "metadata": {},
   "outputs": [
    {
     "data": {
      "text/html": [
       "<div>\n",
       "<style scoped>\n",
       "    .dataframe tbody tr th:only-of-type {\n",
       "        vertical-align: middle;\n",
       "    }\n",
       "\n",
       "    .dataframe tbody tr th {\n",
       "        vertical-align: top;\n",
       "    }\n",
       "\n",
       "    .dataframe thead th {\n",
       "        text-align: right;\n",
       "    }\n",
       "</style>\n",
       "<table border=\"1\" class=\"dataframe\">\n",
       "  <thead>\n",
       "    <tr style=\"text-align: right;\">\n",
       "      <th></th>\n",
       "      <th>身高</th>\n",
       "      <th>体重</th>\n",
       "      <th>肺活量</th>\n",
       "      <th>50米跑</th>\n",
       "      <th>立定跳远</th>\n",
       "      <th>坐位体前屈</th>\n",
       "    </tr>\n",
       "  </thead>\n",
       "  <tbody>\n",
       "    <tr>\n",
       "      <th>0</th>\n",
       "      <td>155</td>\n",
       "      <td>51</td>\n",
       "      <td>1687</td>\n",
       "      <td>9.7</td>\n",
       "      <td>158</td>\n",
       "      <td>9.3</td>\n",
       "    </tr>\n",
       "    <tr>\n",
       "      <th>1</th>\n",
       "      <td>158</td>\n",
       "      <td>52</td>\n",
       "      <td>1868</td>\n",
       "      <td>9.3</td>\n",
       "      <td>162</td>\n",
       "      <td>9.6</td>\n",
       "    </tr>\n",
       "    <tr>\n",
       "      <th>2</th>\n",
       "      <td>160</td>\n",
       "      <td>59</td>\n",
       "      <td>1958</td>\n",
       "      <td>9.9</td>\n",
       "      <td>178</td>\n",
       "      <td>9.5</td>\n",
       "    </tr>\n",
       "  </tbody>\n",
       "</table>\n",
       "</div>"
      ],
      "text/plain": [
       "    身高  体重   肺活量  50米跑  立定跳远  坐位体前屈\n",
       "0  155  51  1687   9.7   158    9.3\n",
       "1  158  52  1868   9.3   162    9.6\n",
       "2  160  59  1958   9.9   178    9.5"
      ]
     },
     "execution_count": 9,
     "metadata": {},
     "output_type": "execute_result"
    }
   ],
   "source": [
    "# 选取前3行数据的所有列\n",
    "df.iloc[:3,:]"
   ]
  },
  {
   "cell_type": "markdown",
   "id": "a6a2fce8-602f-4691-a217-cf8f53b79a31",
   "metadata": {},
   "source": [
    "四、排序"
   ]
  },
  {
   "cell_type": "code",
   "execution_count": 10,
   "id": "8d4712d9-d908-4344-b9ec-1f465df3fb22",
   "metadata": {},
   "outputs": [
    {
     "data": {
      "text/html": [
       "<div>\n",
       "<style scoped>\n",
       "    .dataframe tbody tr th:only-of-type {\n",
       "        vertical-align: middle;\n",
       "    }\n",
       "\n",
       "    .dataframe tbody tr th {\n",
       "        vertical-align: top;\n",
       "    }\n",
       "\n",
       "    .dataframe thead th {\n",
       "        text-align: right;\n",
       "    }\n",
       "</style>\n",
       "<table border=\"1\" class=\"dataframe\">\n",
       "  <thead>\n",
       "    <tr style=\"text-align: right;\">\n",
       "      <th></th>\n",
       "      <th>A</th>\n",
       "      <th>B</th>\n",
       "      <th>C</th>\n",
       "      <th>D</th>\n",
       "    </tr>\n",
       "  </thead>\n",
       "  <tbody>\n",
       "    <tr>\n",
       "      <th>2013-01-01</th>\n",
       "      <td>-0.199439</td>\n",
       "      <td>0.491127</td>\n",
       "      <td>-2.930525</td>\n",
       "      <td>1.288596</td>\n",
       "    </tr>\n",
       "    <tr>\n",
       "      <th>2013-01-02</th>\n",
       "      <td>-0.644826</td>\n",
       "      <td>0.359582</td>\n",
       "      <td>1.912591</td>\n",
       "      <td>-1.261523</td>\n",
       "    </tr>\n",
       "    <tr>\n",
       "      <th>2013-01-03</th>\n",
       "      <td>2.319406</td>\n",
       "      <td>-0.144671</td>\n",
       "      <td>0.377837</td>\n",
       "      <td>1.330727</td>\n",
       "    </tr>\n",
       "    <tr>\n",
       "      <th>2013-01-04</th>\n",
       "      <td>-2.571069</td>\n",
       "      <td>-1.674768</td>\n",
       "      <td>-1.260553</td>\n",
       "      <td>-0.511288</td>\n",
       "    </tr>\n",
       "    <tr>\n",
       "      <th>2013-01-05</th>\n",
       "      <td>-0.055749</td>\n",
       "      <td>0.866964</td>\n",
       "      <td>-2.670970</td>\n",
       "      <td>-0.817706</td>\n",
       "    </tr>\n",
       "    <tr>\n",
       "      <th>2013-01-06</th>\n",
       "      <td>1.547976</td>\n",
       "      <td>-0.614839</td>\n",
       "      <td>-0.855619</td>\n",
       "      <td>-0.683838</td>\n",
       "    </tr>\n",
       "  </tbody>\n",
       "</table>\n",
       "</div>"
      ],
      "text/plain": [
       "                   A         B         C         D\n",
       "2013-01-01 -0.199439  0.491127 -2.930525  1.288596\n",
       "2013-01-02 -0.644826  0.359582  1.912591 -1.261523\n",
       "2013-01-03  2.319406 -0.144671  0.377837  1.330727\n",
       "2013-01-04 -2.571069 -1.674768 -1.260553 -0.511288\n",
       "2013-01-05 -0.055749  0.866964 -2.670970 -0.817706\n",
       "2013-01-06  1.547976 -0.614839 -0.855619 -0.683838"
      ]
     },
     "execution_count": 10,
     "metadata": {},
     "output_type": "execute_result"
    }
   ],
   "source": [
    "dates = pd.date_range('20130101', periods=6)\n",
    "df = pd.DataFrame(np.random.randn(6, 4), index=dates, columns=list('ABCD'))\n",
    "df"
   ]
  },
  {
   "cell_type": "code",
   "execution_count": 11,
   "id": "cf39b65f-357e-4423-b272-cec5197f7f44",
   "metadata": {},
   "outputs": [
    {
     "data": {
      "text/html": [
       "<div>\n",
       "<style scoped>\n",
       "    .dataframe tbody tr th:only-of-type {\n",
       "        vertical-align: middle;\n",
       "    }\n",
       "\n",
       "    .dataframe tbody tr th {\n",
       "        vertical-align: top;\n",
       "    }\n",
       "\n",
       "    .dataframe thead th {\n",
       "        text-align: right;\n",
       "    }\n",
       "</style>\n",
       "<table border=\"1\" class=\"dataframe\">\n",
       "  <thead>\n",
       "    <tr style=\"text-align: right;\">\n",
       "      <th></th>\n",
       "      <th>D</th>\n",
       "      <th>C</th>\n",
       "      <th>B</th>\n",
       "      <th>A</th>\n",
       "    </tr>\n",
       "  </thead>\n",
       "  <tbody>\n",
       "    <tr>\n",
       "      <th>2013-01-01</th>\n",
       "      <td>1.288596</td>\n",
       "      <td>-2.930525</td>\n",
       "      <td>0.491127</td>\n",
       "      <td>-0.199439</td>\n",
       "    </tr>\n",
       "    <tr>\n",
       "      <th>2013-01-02</th>\n",
       "      <td>-1.261523</td>\n",
       "      <td>1.912591</td>\n",
       "      <td>0.359582</td>\n",
       "      <td>-0.644826</td>\n",
       "    </tr>\n",
       "    <tr>\n",
       "      <th>2013-01-03</th>\n",
       "      <td>1.330727</td>\n",
       "      <td>0.377837</td>\n",
       "      <td>-0.144671</td>\n",
       "      <td>2.319406</td>\n",
       "    </tr>\n",
       "    <tr>\n",
       "      <th>2013-01-04</th>\n",
       "      <td>-0.511288</td>\n",
       "      <td>-1.260553</td>\n",
       "      <td>-1.674768</td>\n",
       "      <td>-2.571069</td>\n",
       "    </tr>\n",
       "    <tr>\n",
       "      <th>2013-01-05</th>\n",
       "      <td>-0.817706</td>\n",
       "      <td>-2.670970</td>\n",
       "      <td>0.866964</td>\n",
       "      <td>-0.055749</td>\n",
       "    </tr>\n",
       "    <tr>\n",
       "      <th>2013-01-06</th>\n",
       "      <td>-0.683838</td>\n",
       "      <td>-0.855619</td>\n",
       "      <td>-0.614839</td>\n",
       "      <td>1.547976</td>\n",
       "    </tr>\n",
       "  </tbody>\n",
       "</table>\n",
       "</div>"
      ],
      "text/plain": [
       "                   D         C         B         A\n",
       "2013-01-01  1.288596 -2.930525  0.491127 -0.199439\n",
       "2013-01-02 -1.261523  1.912591  0.359582 -0.644826\n",
       "2013-01-03  1.330727  0.377837 -0.144671  2.319406\n",
       "2013-01-04 -0.511288 -1.260553 -1.674768 -2.571069\n",
       "2013-01-05 -0.817706 -2.670970  0.866964 -0.055749\n",
       "2013-01-06 -0.683838 -0.855619 -0.614839  1.547976"
      ]
     },
     "execution_count": 11,
     "metadata": {},
     "output_type": "execute_result"
    }
   ],
   "source": [
    "#按列排序，降序\n",
    "df.sort_index(axis=1, ascending=False)"
   ]
  },
  {
   "cell_type": "code",
   "execution_count": 12,
   "id": "f2929059-9eb5-4088-8378-6f13132f5164",
   "metadata": {},
   "outputs": [
    {
     "data": {
      "text/html": [
       "<div>\n",
       "<style scoped>\n",
       "    .dataframe tbody tr th:only-of-type {\n",
       "        vertical-align: middle;\n",
       "    }\n",
       "\n",
       "    .dataframe tbody tr th {\n",
       "        vertical-align: top;\n",
       "    }\n",
       "\n",
       "    .dataframe thead th {\n",
       "        text-align: right;\n",
       "    }\n",
       "</style>\n",
       "<table border=\"1\" class=\"dataframe\">\n",
       "  <thead>\n",
       "    <tr style=\"text-align: right;\">\n",
       "      <th></th>\n",
       "      <th>A</th>\n",
       "      <th>B</th>\n",
       "      <th>C</th>\n",
       "      <th>D</th>\n",
       "    </tr>\n",
       "  </thead>\n",
       "  <tbody>\n",
       "    <tr>\n",
       "      <th>2013-01-04</th>\n",
       "      <td>-2.571069</td>\n",
       "      <td>-1.674768</td>\n",
       "      <td>-1.260553</td>\n",
       "      <td>-0.511288</td>\n",
       "    </tr>\n",
       "    <tr>\n",
       "      <th>2013-01-06</th>\n",
       "      <td>1.547976</td>\n",
       "      <td>-0.614839</td>\n",
       "      <td>-0.855619</td>\n",
       "      <td>-0.683838</td>\n",
       "    </tr>\n",
       "    <tr>\n",
       "      <th>2013-01-03</th>\n",
       "      <td>2.319406</td>\n",
       "      <td>-0.144671</td>\n",
       "      <td>0.377837</td>\n",
       "      <td>1.330727</td>\n",
       "    </tr>\n",
       "    <tr>\n",
       "      <th>2013-01-02</th>\n",
       "      <td>-0.644826</td>\n",
       "      <td>0.359582</td>\n",
       "      <td>1.912591</td>\n",
       "      <td>-1.261523</td>\n",
       "    </tr>\n",
       "    <tr>\n",
       "      <th>2013-01-01</th>\n",
       "      <td>-0.199439</td>\n",
       "      <td>0.491127</td>\n",
       "      <td>-2.930525</td>\n",
       "      <td>1.288596</td>\n",
       "    </tr>\n",
       "    <tr>\n",
       "      <th>2013-01-05</th>\n",
       "      <td>-0.055749</td>\n",
       "      <td>0.866964</td>\n",
       "      <td>-2.670970</td>\n",
       "      <td>-0.817706</td>\n",
       "    </tr>\n",
       "  </tbody>\n",
       "</table>\n",
       "</div>"
      ],
      "text/plain": [
       "                   A         B         C         D\n",
       "2013-01-04 -2.571069 -1.674768 -1.260553 -0.511288\n",
       "2013-01-06  1.547976 -0.614839 -0.855619 -0.683838\n",
       "2013-01-03  2.319406 -0.144671  0.377837  1.330727\n",
       "2013-01-02 -0.644826  0.359582  1.912591 -1.261523\n",
       "2013-01-01 -0.199439  0.491127 -2.930525  1.288596\n",
       "2013-01-05 -0.055749  0.866964 -2.670970 -0.817706"
      ]
     },
     "execution_count": 12,
     "metadata": {},
     "output_type": "execute_result"
    }
   ],
   "source": [
    "#按值排序：\n",
    "df.sort_values(by='B')"
   ]
  },
  {
   "cell_type": "code",
   "execution_count": 13,
   "id": "b086f8d6-6547-4d57-a8f3-30de964f7f59",
   "metadata": {},
   "outputs": [
    {
     "data": {
      "text/html": [
       "<div>\n",
       "<style scoped>\n",
       "    .dataframe tbody tr th:only-of-type {\n",
       "        vertical-align: middle;\n",
       "    }\n",
       "\n",
       "    .dataframe tbody tr th {\n",
       "        vertical-align: top;\n",
       "    }\n",
       "\n",
       "    .dataframe thead th {\n",
       "        text-align: right;\n",
       "    }\n",
       "</style>\n",
       "<table border=\"1\" class=\"dataframe\">\n",
       "  <thead>\n",
       "    <tr style=\"text-align: right;\">\n",
       "      <th></th>\n",
       "      <th>A</th>\n",
       "      <th>B</th>\n",
       "      <th>C</th>\n",
       "      <th>D</th>\n",
       "    </tr>\n",
       "  </thead>\n",
       "  <tbody>\n",
       "    <tr>\n",
       "      <th>2013-01-03</th>\n",
       "      <td>2.319406</td>\n",
       "      <td>-0.144671</td>\n",
       "      <td>0.377837</td>\n",
       "      <td>1.330727</td>\n",
       "    </tr>\n",
       "    <tr>\n",
       "      <th>2013-01-06</th>\n",
       "      <td>1.547976</td>\n",
       "      <td>-0.614839</td>\n",
       "      <td>-0.855619</td>\n",
       "      <td>-0.683838</td>\n",
       "    </tr>\n",
       "  </tbody>\n",
       "</table>\n",
       "</div>"
      ],
      "text/plain": [
       "                   A         B         C         D\n",
       "2013-01-03  2.319406 -0.144671  0.377837  1.330727\n",
       "2013-01-06  1.547976 -0.614839 -0.855619 -0.683838"
      ]
     },
     "execution_count": 13,
     "metadata": {},
     "output_type": "execute_result"
    }
   ],
   "source": [
    "#  布尔索引\n",
    "df[df.A > 0]"
   ]
  },
  {
   "cell_type": "code",
   "execution_count": 14,
   "id": "2a068af3-d800-4396-9661-53b9df53c99e",
   "metadata": {},
   "outputs": [
    {
     "data": {
      "text/html": [
       "<div>\n",
       "<style scoped>\n",
       "    .dataframe tbody tr th:only-of-type {\n",
       "        vertical-align: middle;\n",
       "    }\n",
       "\n",
       "    .dataframe tbody tr th {\n",
       "        vertical-align: top;\n",
       "    }\n",
       "\n",
       "    .dataframe thead th {\n",
       "        text-align: right;\n",
       "    }\n",
       "</style>\n",
       "<table border=\"1\" class=\"dataframe\">\n",
       "  <thead>\n",
       "    <tr style=\"text-align: right;\">\n",
       "      <th></th>\n",
       "      <th>A</th>\n",
       "      <th>B</th>\n",
       "      <th>C</th>\n",
       "      <th>D</th>\n",
       "    </tr>\n",
       "  </thead>\n",
       "  <tbody>\n",
       "    <tr>\n",
       "      <th>2013-01-01</th>\n",
       "      <td>NaN</td>\n",
       "      <td>0.491127</td>\n",
       "      <td>NaN</td>\n",
       "      <td>1.288596</td>\n",
       "    </tr>\n",
       "    <tr>\n",
       "      <th>2013-01-02</th>\n",
       "      <td>NaN</td>\n",
       "      <td>0.359582</td>\n",
       "      <td>1.912591</td>\n",
       "      <td>NaN</td>\n",
       "    </tr>\n",
       "    <tr>\n",
       "      <th>2013-01-03</th>\n",
       "      <td>2.319406</td>\n",
       "      <td>NaN</td>\n",
       "      <td>0.377837</td>\n",
       "      <td>1.330727</td>\n",
       "    </tr>\n",
       "    <tr>\n",
       "      <th>2013-01-04</th>\n",
       "      <td>NaN</td>\n",
       "      <td>NaN</td>\n",
       "      <td>NaN</td>\n",
       "      <td>NaN</td>\n",
       "    </tr>\n",
       "    <tr>\n",
       "      <th>2013-01-05</th>\n",
       "      <td>NaN</td>\n",
       "      <td>0.866964</td>\n",
       "      <td>NaN</td>\n",
       "      <td>NaN</td>\n",
       "    </tr>\n",
       "    <tr>\n",
       "      <th>2013-01-06</th>\n",
       "      <td>1.547976</td>\n",
       "      <td>NaN</td>\n",
       "      <td>NaN</td>\n",
       "      <td>NaN</td>\n",
       "    </tr>\n",
       "  </tbody>\n",
       "</table>\n",
       "</div>"
      ],
      "text/plain": [
       "                   A         B         C         D\n",
       "2013-01-01       NaN  0.491127       NaN  1.288596\n",
       "2013-01-02       NaN  0.359582  1.912591       NaN\n",
       "2013-01-03  2.319406       NaN  0.377837  1.330727\n",
       "2013-01-04       NaN       NaN       NaN       NaN\n",
       "2013-01-05       NaN  0.866964       NaN       NaN\n",
       "2013-01-06  1.547976       NaN       NaN       NaN"
      ]
     },
     "execution_count": 14,
     "metadata": {},
     "output_type": "execute_result"
    }
   ],
   "source": [
    "#选择 DataFrame 里满足条件的值：\n",
    "df[df > 0]"
   ]
  }
 ],
 "metadata": {
  "kernelspec": {
   "display_name": "Python 3 (ipykernel)",
   "language": "python",
   "name": "python3"
  },
  "language_info": {
   "codemirror_mode": {
    "name": "ipython",
    "version": 3
   },
   "file_extension": ".py",
   "mimetype": "text/x-python",
   "name": "python",
   "nbconvert_exporter": "python",
   "pygments_lexer": "ipython3",
   "version": "3.12.5"
  }
 },
 "nbformat": 4,
 "nbformat_minor": 5
}
